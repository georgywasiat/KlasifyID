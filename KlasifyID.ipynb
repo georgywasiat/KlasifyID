{
  "nbformat": 4,
  "nbformat_minor": 0,
  "metadata": {
    "colab": {
      "provenance": [],
      "authorship_tag": "ABX9TyOznAX45wXo66Yb8VXQOVB9",
      "include_colab_link": true
    },
    "kernelspec": {
      "name": "python3",
      "display_name": "Python 3"
    },
    "language_info": {
      "name": "python"
    }
  },
  "cells": [
    {
      "cell_type": "markdown",
      "metadata": {
        "id": "view-in-github",
        "colab_type": "text"
      },
      "source": [
        "<a href=\"https://colab.research.google.com/github/georgywasiat/KlasifyID/blob/main/KlasifyID.ipynb\" target=\"_parent\"><img src=\"https://colab.research.google.com/assets/colab-badge.svg\" alt=\"Open In Colab\"/></a>"
      ]
    },
    {
      "cell_type": "markdown",
      "source": [
        "##KlasifyID\n",
        "KlasifyID adalah aplikasi untuk mengklasifikasikan jawaban generatif AI versus jawaban manusia pada teks Bahasa Indonesia menggunakan metode TF-IDF dan Support Vector Machine.\n",
        "\n",
        "Georgy Banny Rizky Wasiat\n",
        "\n",
        "Priyo Sidik Sasongko, S.Si., M.Kom.\n",
        "\n",
        "Edy Suharto, S.T., M.Kom.\n"
      ],
      "metadata": {
        "id": "5fLDEBW35AiT"
      }
    },
    {
      "cell_type": "code",
      "execution_count": null,
      "metadata": {
        "colab": {
          "base_uri": "https://localhost:8080/"
        },
        "id": "SEukhxI3orpU",
        "outputId": "15933975-0a69-4f9d-a00c-ef12153f623d"
      },
      "outputs": [
        {
          "output_type": "stream",
          "name": "stdout",
          "text": [
            "Mounted at /content/drive\n",
            "Collecting Sastrawi\n",
            "  Downloading Sastrawi-1.0.1-py2.py3-none-any.whl.metadata (909 bytes)\n",
            "Downloading Sastrawi-1.0.1-py2.py3-none-any.whl (209 kB)\n",
            "\u001b[2K   \u001b[90m━━━━━━━━━━━━━━━━━━━━━━━━━━━━━━━━━━━━━━━━\u001b[0m \u001b[32m209.7/209.7 kB\u001b[0m \u001b[31m5.4 MB/s\u001b[0m eta \u001b[36m0:00:00\u001b[0m\n",
            "\u001b[?25hInstalling collected packages: Sastrawi\n",
            "Successfully installed Sastrawi-1.0.1\n"
          ]
        },
        {
          "output_type": "stream",
          "name": "stderr",
          "text": [
            "[nltk_data] Downloading package punkt to /root/nltk_data...\n",
            "[nltk_data]   Unzipping tokenizers/punkt.zip.\n",
            "[nltk_data] Downloading package stopwords to /root/nltk_data...\n",
            "[nltk_data]   Unzipping corpora/stopwords.zip.\n"
          ]
        },
        {
          "output_type": "execute_result",
          "data": {
            "text/plain": [
              "True"
            ]
          },
          "metadata": {},
          "execution_count": 1
        }
      ],
      "source": [
        "from google.colab import drive\n",
        "drive.mount('/content/drive')\n",
        "\n",
        "import pandas as pd\n",
        "import matplotlib.pyplot as plt\n",
        "import seaborn as sns\n",
        "import re\n",
        "import string\n",
        "import nltk\n",
        "import numpy as np\n",
        "from nltk.tokenize import word_tokenize\n",
        "from nltk.corpus import stopwords\n",
        "from sklearn.model_selection import train_test_split\n",
        "from sklearn.feature_extraction.text import CountVectorizer, TfidfTransformer\n",
        "from sklearn.svm import SVC\n",
        "from sklearn.metrics import accuracy_score\n",
        "from sklearn.metrics import confusion_matrix, precision_score, recall_score, f1_score\n",
        "import time\n",
        "!pip install Sastrawi\n",
        "from Sastrawi.Stemmer.StemmerFactory import StemmerFactory\n",
        "from sklearn.model_selection import train_test_split\n",
        "\n",
        "# Download NLTK resources\n",
        "nltk.download('punkt')\n",
        "nltk.download('stopwords')"
      ]
    },
    {
      "cell_type": "code",
      "source": [
        "iot = pd.read_csv('/content/drive/My Drive/Skripsi/dataset_skripsi.csv')\n",
        "iot.head(800)"
      ],
      "metadata": {
        "colab": {
          "base_uri": "https://localhost:8080/",
          "height": 423
        },
        "id": "188Luwedo7uX",
        "outputId": "b586a939-6337-4be8-a670-d5330110a4c2"
      },
      "execution_count": null,
      "outputs": [
        {
          "output_type": "execute_result",
          "data": {
            "text/plain": [
              "                                                  Text  Label      Sumber\n",
              "0    Berikut adalah nama komponen utama arsitektur ...  J_MHS   Mahasiswa\n",
              "1    1. CPU: untuk mengontrol operasi komputer dan ...  J_MHS   Mahasiswa\n",
              "2    1. memori untuk menyimpan dalam sementara wakt...  J_MHS   Mahasiswa\n",
              "3    Cpu : memproses data dan mengendalikan operasi...  J_MHS   Mahasiswa\n",
              "4    Control Unit      Berfungsi sebagai \"otak\" kom...  J_MHS   Mahasiswa\n",
              "..                                                 ...    ...         ...\n",
              "795  Komputer terdiri dari tiga elemen utama yang s...   J_AI  Perplexity\n",
              "796  Komputer terdiri dari beberapa komponen utama ...   J_AI  Perplexity\n",
              "797  Komputer terdiri dari beberapa komponen utama ...   J_AI  Perplexity\n",
              "798  Komputer terdiri dari beberapa komponen utama ...   J_AI  Perplexity\n",
              "799  Komputer terdiri dari beberapa komponen utama ...   J_AI  Perplexity\n",
              "\n",
              "[800 rows x 3 columns]"
            ],
            "text/html": [
              "\n",
              "  <div id=\"df-f494ce82-3e11-4886-a395-5a96e4c10750\" class=\"colab-df-container\">\n",
              "    <div>\n",
              "<style scoped>\n",
              "    .dataframe tbody tr th:only-of-type {\n",
              "        vertical-align: middle;\n",
              "    }\n",
              "\n",
              "    .dataframe tbody tr th {\n",
              "        vertical-align: top;\n",
              "    }\n",
              "\n",
              "    .dataframe thead th {\n",
              "        text-align: right;\n",
              "    }\n",
              "</style>\n",
              "<table border=\"1\" class=\"dataframe\">\n",
              "  <thead>\n",
              "    <tr style=\"text-align: right;\">\n",
              "      <th></th>\n",
              "      <th>Text</th>\n",
              "      <th>Label</th>\n",
              "      <th>Sumber</th>\n",
              "    </tr>\n",
              "  </thead>\n",
              "  <tbody>\n",
              "    <tr>\n",
              "      <th>0</th>\n",
              "      <td>Berikut adalah nama komponen utama arsitektur ...</td>\n",
              "      <td>J_MHS</td>\n",
              "      <td>Mahasiswa</td>\n",
              "    </tr>\n",
              "    <tr>\n",
              "      <th>1</th>\n",
              "      <td>1. CPU: untuk mengontrol operasi komputer dan ...</td>\n",
              "      <td>J_MHS</td>\n",
              "      <td>Mahasiswa</td>\n",
              "    </tr>\n",
              "    <tr>\n",
              "      <th>2</th>\n",
              "      <td>1. memori untuk menyimpan dalam sementara wakt...</td>\n",
              "      <td>J_MHS</td>\n",
              "      <td>Mahasiswa</td>\n",
              "    </tr>\n",
              "    <tr>\n",
              "      <th>3</th>\n",
              "      <td>Cpu : memproses data dan mengendalikan operasi...</td>\n",
              "      <td>J_MHS</td>\n",
              "      <td>Mahasiswa</td>\n",
              "    </tr>\n",
              "    <tr>\n",
              "      <th>4</th>\n",
              "      <td>Control Unit      Berfungsi sebagai \"otak\" kom...</td>\n",
              "      <td>J_MHS</td>\n",
              "      <td>Mahasiswa</td>\n",
              "    </tr>\n",
              "    <tr>\n",
              "      <th>...</th>\n",
              "      <td>...</td>\n",
              "      <td>...</td>\n",
              "      <td>...</td>\n",
              "    </tr>\n",
              "    <tr>\n",
              "      <th>795</th>\n",
              "      <td>Komputer terdiri dari tiga elemen utama yang s...</td>\n",
              "      <td>J_AI</td>\n",
              "      <td>Perplexity</td>\n",
              "    </tr>\n",
              "    <tr>\n",
              "      <th>796</th>\n",
              "      <td>Komputer terdiri dari beberapa komponen utama ...</td>\n",
              "      <td>J_AI</td>\n",
              "      <td>Perplexity</td>\n",
              "    </tr>\n",
              "    <tr>\n",
              "      <th>797</th>\n",
              "      <td>Komputer terdiri dari beberapa komponen utama ...</td>\n",
              "      <td>J_AI</td>\n",
              "      <td>Perplexity</td>\n",
              "    </tr>\n",
              "    <tr>\n",
              "      <th>798</th>\n",
              "      <td>Komputer terdiri dari beberapa komponen utama ...</td>\n",
              "      <td>J_AI</td>\n",
              "      <td>Perplexity</td>\n",
              "    </tr>\n",
              "    <tr>\n",
              "      <th>799</th>\n",
              "      <td>Komputer terdiri dari beberapa komponen utama ...</td>\n",
              "      <td>J_AI</td>\n",
              "      <td>Perplexity</td>\n",
              "    </tr>\n",
              "  </tbody>\n",
              "</table>\n",
              "<p>800 rows × 3 columns</p>\n",
              "</div>\n",
              "    <div class=\"colab-df-buttons\">\n",
              "\n",
              "  <div class=\"colab-df-container\">\n",
              "    <button class=\"colab-df-convert\" onclick=\"convertToInteractive('df-f494ce82-3e11-4886-a395-5a96e4c10750')\"\n",
              "            title=\"Convert this dataframe to an interactive table.\"\n",
              "            style=\"display:none;\">\n",
              "\n",
              "  <svg xmlns=\"http://www.w3.org/2000/svg\" height=\"24px\" viewBox=\"0 -960 960 960\">\n",
              "    <path d=\"M120-120v-720h720v720H120Zm60-500h600v-160H180v160Zm220 220h160v-160H400v160Zm0 220h160v-160H400v160ZM180-400h160v-160H180v160Zm440 0h160v-160H620v160ZM180-180h160v-160H180v160Zm440 0h160v-160H620v160Z\"/>\n",
              "  </svg>\n",
              "    </button>\n",
              "\n",
              "  <style>\n",
              "    .colab-df-container {\n",
              "      display:flex;\n",
              "      gap: 12px;\n",
              "    }\n",
              "\n",
              "    .colab-df-convert {\n",
              "      background-color: #E8F0FE;\n",
              "      border: none;\n",
              "      border-radius: 50%;\n",
              "      cursor: pointer;\n",
              "      display: none;\n",
              "      fill: #1967D2;\n",
              "      height: 32px;\n",
              "      padding: 0 0 0 0;\n",
              "      width: 32px;\n",
              "    }\n",
              "\n",
              "    .colab-df-convert:hover {\n",
              "      background-color: #E2EBFA;\n",
              "      box-shadow: 0px 1px 2px rgba(60, 64, 67, 0.3), 0px 1px 3px 1px rgba(60, 64, 67, 0.15);\n",
              "      fill: #174EA6;\n",
              "    }\n",
              "\n",
              "    .colab-df-buttons div {\n",
              "      margin-bottom: 4px;\n",
              "    }\n",
              "\n",
              "    [theme=dark] .colab-df-convert {\n",
              "      background-color: #3B4455;\n",
              "      fill: #D2E3FC;\n",
              "    }\n",
              "\n",
              "    [theme=dark] .colab-df-convert:hover {\n",
              "      background-color: #434B5C;\n",
              "      box-shadow: 0px 1px 3px 1px rgba(0, 0, 0, 0.15);\n",
              "      filter: drop-shadow(0px 1px 2px rgba(0, 0, 0, 0.3));\n",
              "      fill: #FFFFFF;\n",
              "    }\n",
              "  </style>\n",
              "\n",
              "    <script>\n",
              "      const buttonEl =\n",
              "        document.querySelector('#df-f494ce82-3e11-4886-a395-5a96e4c10750 button.colab-df-convert');\n",
              "      buttonEl.style.display =\n",
              "        google.colab.kernel.accessAllowed ? 'block' : 'none';\n",
              "\n",
              "      async function convertToInteractive(key) {\n",
              "        const element = document.querySelector('#df-f494ce82-3e11-4886-a395-5a96e4c10750');\n",
              "        const dataTable =\n",
              "          await google.colab.kernel.invokeFunction('convertToInteractive',\n",
              "                                                    [key], {});\n",
              "        if (!dataTable) return;\n",
              "\n",
              "        const docLinkHtml = 'Like what you see? Visit the ' +\n",
              "          '<a target=\"_blank\" href=https://colab.research.google.com/notebooks/data_table.ipynb>data table notebook</a>'\n",
              "          + ' to learn more about interactive tables.';\n",
              "        element.innerHTML = '';\n",
              "        dataTable['output_type'] = 'display_data';\n",
              "        await google.colab.output.renderOutput(dataTable, element);\n",
              "        const docLink = document.createElement('div');\n",
              "        docLink.innerHTML = docLinkHtml;\n",
              "        element.appendChild(docLink);\n",
              "      }\n",
              "    </script>\n",
              "  </div>\n",
              "\n",
              "\n",
              "<div id=\"df-73e30365-165f-4a8c-8a05-0d1a2552ba6f\">\n",
              "  <button class=\"colab-df-quickchart\" onclick=\"quickchart('df-73e30365-165f-4a8c-8a05-0d1a2552ba6f')\"\n",
              "            title=\"Suggest charts\"\n",
              "            style=\"display:none;\">\n",
              "\n",
              "<svg xmlns=\"http://www.w3.org/2000/svg\" height=\"24px\"viewBox=\"0 0 24 24\"\n",
              "     width=\"24px\">\n",
              "    <g>\n",
              "        <path d=\"M19 3H5c-1.1 0-2 .9-2 2v14c0 1.1.9 2 2 2h14c1.1 0 2-.9 2-2V5c0-1.1-.9-2-2-2zM9 17H7v-7h2v7zm4 0h-2V7h2v10zm4 0h-2v-4h2v4z\"/>\n",
              "    </g>\n",
              "</svg>\n",
              "  </button>\n",
              "\n",
              "<style>\n",
              "  .colab-df-quickchart {\n",
              "      --bg-color: #E8F0FE;\n",
              "      --fill-color: #1967D2;\n",
              "      --hover-bg-color: #E2EBFA;\n",
              "      --hover-fill-color: #174EA6;\n",
              "      --disabled-fill-color: #AAA;\n",
              "      --disabled-bg-color: #DDD;\n",
              "  }\n",
              "\n",
              "  [theme=dark] .colab-df-quickchart {\n",
              "      --bg-color: #3B4455;\n",
              "      --fill-color: #D2E3FC;\n",
              "      --hover-bg-color: #434B5C;\n",
              "      --hover-fill-color: #FFFFFF;\n",
              "      --disabled-bg-color: #3B4455;\n",
              "      --disabled-fill-color: #666;\n",
              "  }\n",
              "\n",
              "  .colab-df-quickchart {\n",
              "    background-color: var(--bg-color);\n",
              "    border: none;\n",
              "    border-radius: 50%;\n",
              "    cursor: pointer;\n",
              "    display: none;\n",
              "    fill: var(--fill-color);\n",
              "    height: 32px;\n",
              "    padding: 0;\n",
              "    width: 32px;\n",
              "  }\n",
              "\n",
              "  .colab-df-quickchart:hover {\n",
              "    background-color: var(--hover-bg-color);\n",
              "    box-shadow: 0 1px 2px rgba(60, 64, 67, 0.3), 0 1px 3px 1px rgba(60, 64, 67, 0.15);\n",
              "    fill: var(--button-hover-fill-color);\n",
              "  }\n",
              "\n",
              "  .colab-df-quickchart-complete:disabled,\n",
              "  .colab-df-quickchart-complete:disabled:hover {\n",
              "    background-color: var(--disabled-bg-color);\n",
              "    fill: var(--disabled-fill-color);\n",
              "    box-shadow: none;\n",
              "  }\n",
              "\n",
              "  .colab-df-spinner {\n",
              "    border: 2px solid var(--fill-color);\n",
              "    border-color: transparent;\n",
              "    border-bottom-color: var(--fill-color);\n",
              "    animation:\n",
              "      spin 1s steps(1) infinite;\n",
              "  }\n",
              "\n",
              "  @keyframes spin {\n",
              "    0% {\n",
              "      border-color: transparent;\n",
              "      border-bottom-color: var(--fill-color);\n",
              "      border-left-color: var(--fill-color);\n",
              "    }\n",
              "    20% {\n",
              "      border-color: transparent;\n",
              "      border-left-color: var(--fill-color);\n",
              "      border-top-color: var(--fill-color);\n",
              "    }\n",
              "    30% {\n",
              "      border-color: transparent;\n",
              "      border-left-color: var(--fill-color);\n",
              "      border-top-color: var(--fill-color);\n",
              "      border-right-color: var(--fill-color);\n",
              "    }\n",
              "    40% {\n",
              "      border-color: transparent;\n",
              "      border-right-color: var(--fill-color);\n",
              "      border-top-color: var(--fill-color);\n",
              "    }\n",
              "    60% {\n",
              "      border-color: transparent;\n",
              "      border-right-color: var(--fill-color);\n",
              "    }\n",
              "    80% {\n",
              "      border-color: transparent;\n",
              "      border-right-color: var(--fill-color);\n",
              "      border-bottom-color: var(--fill-color);\n",
              "    }\n",
              "    90% {\n",
              "      border-color: transparent;\n",
              "      border-bottom-color: var(--fill-color);\n",
              "    }\n",
              "  }\n",
              "</style>\n",
              "\n",
              "  <script>\n",
              "    async function quickchart(key) {\n",
              "      const quickchartButtonEl =\n",
              "        document.querySelector('#' + key + ' button');\n",
              "      quickchartButtonEl.disabled = true;  // To prevent multiple clicks.\n",
              "      quickchartButtonEl.classList.add('colab-df-spinner');\n",
              "      try {\n",
              "        const charts = await google.colab.kernel.invokeFunction(\n",
              "            'suggestCharts', [key], {});\n",
              "      } catch (error) {\n",
              "        console.error('Error during call to suggestCharts:', error);\n",
              "      }\n",
              "      quickchartButtonEl.classList.remove('colab-df-spinner');\n",
              "      quickchartButtonEl.classList.add('colab-df-quickchart-complete');\n",
              "    }\n",
              "    (() => {\n",
              "      let quickchartButtonEl =\n",
              "        document.querySelector('#df-73e30365-165f-4a8c-8a05-0d1a2552ba6f button');\n",
              "      quickchartButtonEl.style.display =\n",
              "        google.colab.kernel.accessAllowed ? 'block' : 'none';\n",
              "    })();\n",
              "  </script>\n",
              "</div>\n",
              "\n",
              "    </div>\n",
              "  </div>\n"
            ],
            "application/vnd.google.colaboratory.intrinsic+json": {
              "type": "dataframe",
              "variable_name": "iot",
              "summary": "{\n  \"name\": \"iot\",\n  \"rows\": 819,\n  \"fields\": [\n    {\n      \"column\": \"Text\",\n      \"properties\": {\n        \"dtype\": \"string\",\n        \"num_unique_values\": 799,\n        \"samples\": [\n          \"Berikut adalah komponen utama penyusun pada komputer beserta penjelasannya:\\n\\nUnit Pemrosesan Sentral (CPU):\\nFungsi: CPU adalah otak dari komputer yang menjalankan instruksi dari program dan mengelola operasi dasar komputer.\\nKomponen Utama: Terdiri dari unit kontrol, unit aritmatika-logika (ALU), dan register.\\nMemori (RAM):\\nFungsi: RAM (Random Access Memory) menyimpan data sementara yang sedang digunakan oleh CPU. Memori ini bersifat volatil, artinya data akan hilang saat komputer dimatikan.\\nJenis: DDR4, DDR5, dll.\\nPenyimpanan (Storage):\\nFungsi: Menyimpan data dan program secara permanen. Ada dua jenis utama: HDD (Hard Disk Drive) dan SSD (Solid State Drive).\\nPerbedaan: SSD lebih cepat dan lebih tahan lama dibandingkan HDD, tetapi biasanya lebih mahal.\\nMotherboard:\\nFungsi: Papan utama yang menghubungkan semua komponen komputer. Motherboard menyediakan slot untuk CPU, RAM, kartu grafis, dan perangkat lainnya.\\nKomponen: Chipset, slot ekspansi, port I/O, dll.\\nKartu Grafis (GPU):\\nFungsi: Mengolah data grafis dan menampilkan gambar di layar. Penting untuk aplikasi yang membutuhkan grafis tinggi seperti game dan desain grafis.\\nJenis: Integrated (terintegrasi dengan CPU) dan dedicated (kartu grafis terpisah).\\nCatu Daya (Power Supply Unit - PSU):\\nFungsi: Menyediakan daya listrik untuk semua komponen komputer. PSU mengubah arus listrik dari sumber daya menjadi arus yang sesuai untuk komponen komputer.\\nSpesifikasi: Daya yang dihasilkan diukur dalam watt.\\nPerangkat Input dan Output (I/O Devices):\\nFungsi: Perangkat input seperti keyboard dan mouse digunakan untuk memasukkan data ke komputer, sedangkan perangkat output seperti monitor dan printer digunakan untuk menampilkan atau mencetak data dari komputer.\\nPendingin (Cooling System):\\nFungsi: Mencegah komponen komputer dari overheating. Bisa berupa kipas, heatsink, atau sistem pendingin cair.\\nJenis: Pendingin udara dan pendingin cair.\",\n          \"Berikut adalah komponen utama dalam arsitektur komputer beserta fungsinya:\\n\\nCentral Processing Unit (CPU): CPU adalah otak dari komputer. Tugas utamanya adalah memproses instruksi dan data. Ketika Anda menjalankan program atau melakukan perhitungan, CPU yang bertanggung jawab untuk melaksanakan tugas tersebut.\\nMemori: Memori digunakan untuk menyimpan instruksi dan data yang diperlukan oleh CPU. Ada beberapa jenis memori, termasuk RAM (Random Access Memory) yang digunakan untuk menyimpan data sementara selama komputer menyala.\\nBus: Bus adalah jalur komunikasi yang menghubungkan antara CPU, memori, dan perangkat input/output. Ini memungkinkan data dan instruksi berpindah di antara komponen-komponen tersebut.\\nPerangkat Input/Output: Ini termasuk keyboard, mouse, layar, printer, dan perangkat lain yang memungkinkan Anda berinteraksi dengan komputer. Perangkat input memasukkan data ke dalam komputer, sedangkan perangkat output menampilkan hasil dari pemrosesan data.\\nStorage Devices: Ini adalah tempat penyimpanan data jangka panjang, seperti hard disk drive (HDD) atau solid-state drive (SSD). Data yang disimpan di sini dapat diakses kapan saja, bahkan setelah komputer dimatikan.\",\n          \"* CPU (CENTRAL PROCESSING UNIT): Otak komputer yang bertugas mengeksekusi instruksi dan melakukan perhitungan.   \\t* MEMORI: Menyimpan data dan instruksi yang dibutuhkan oleh CPU. Terbagi menjadi dua jenis: memori utama (RAM) dan memori sekunder (hard disk, SSD).   \\t* INPUT/OUTPUT (I/O): Alat untuk menghubungkan komputer dengan dunia luar, seperti keyboard, mouse, monitor, printer, dan lain sebagainya.   \\t* BUS: Saluran komunikasi yang menghubungkan semua komponen dalam komputer, memungkinkan mereka untuk saling bertukar data dan instruksi.\"\n        ],\n        \"semantic_type\": \"\",\n        \"description\": \"\"\n      }\n    },\n    {\n      \"column\": \"Label\",\n      \"properties\": {\n        \"dtype\": \"category\",\n        \"num_unique_values\": 2,\n        \"samples\": [\n          \"J_AI\",\n          \"J_MHS\"\n        ],\n        \"semantic_type\": \"\",\n        \"description\": \"\"\n      }\n    },\n    {\n      \"column\": \"Sumber\",\n      \"properties\": {\n        \"dtype\": \"category\",\n        \"num_unique_values\": 5,\n        \"samples\": [\n          \"ChatGPT\",\n          \"Perplexity\"\n        ],\n        \"semantic_type\": \"\",\n        \"description\": \"\"\n      }\n    }\n  ]\n}"
            }
          },
          "metadata": {},
          "execution_count": 2
        }
      ]
    },
    {
      "cell_type": "code",
      "source": [
        "# Hitung frekuensi setiap label\n",
        "label_counts = iot['Label'].value_counts()\n",
        "\n",
        "# Buat pie chart\n",
        "plt.figure(figsize=(2,2))\n",
        "plt.pie(label_counts, labels=label_counts.index, autopct=lambda p: f'{int(p * sum(label_counts) / 100)}', startangle=90, colors=plt.cm.Paired.colors)\n",
        "plt.title('Distribusi Label')\n",
        "plt.axis('equal')  # Membuat pie chart menjadi bulat\n",
        "plt.show()"
      ],
      "metadata": {
        "colab": {
          "base_uri": "https://localhost:8080/",
          "height": 213
        },
        "id": "-u-fBoOwpDRK",
        "outputId": "0289182e-2fca-4a19-bfdd-7772e0b45573"
      },
      "execution_count": null,
      "outputs": [
        {
          "output_type": "display_data",
          "data": {
            "text/plain": [
              "<Figure size 200x200 with 1 Axes>"
            ],
            "image/png": "[encoded data removed]"
          },
          "metadata": {}
        }
      ]
    },
    {
      "cell_type": "code",
      "source": [
        "import matplotlib.pyplot as plt\n",
        "\n",
        "# Filter data di mana Label = \"AI\"\n",
        "filtered_data = iot[iot['Label'] == 'J_AI']\n",
        "\n",
        "# Hitung frekuensi setiap sumber\n",
        "sumber_counts = filtered_data['Sumber'].value_counts()\n",
        "\n",
        "# Buat pie chart jika ada data yang sesuai\n",
        "if not sumber_counts.empty:\n",
        "    plt.figure(figsize=(2,2))  # Ukuran diperbesar untuk tampilan yang lebih baik\n",
        "    plt.pie(sumber_counts, labels=sumber_counts.index, autopct=lambda p: f'{int(p * sum(sumber_counts) / 100)}', startangle=90, colors=plt.cm.Paired.colors[:len(sumber_counts)])\n",
        "    plt.title('Distribusi Sumber untuk Label AI')\n",
        "    plt.axis('equal')  # Membuat pie chart menjadi bulat\n",
        "    plt.show()\n",
        "else:\n",
        "    print(\"Tidak ada data dengan Label 'AI'\")"
      ],
      "metadata": {
        "colab": {
          "base_uri": "https://localhost:8080/",
          "height": 213
        },
        "id": "MZYT6aejpEYe",
        "outputId": "f43599bc-4eef-4d0e-cfbb-0a34bfe2cf90"
      },
      "execution_count": null,
      "outputs": [
        {
          "output_type": "display_data",
          "data": {
            "text/plain": [
              "<Figure size 200x200 with 1 Axes>"
            ],
            "image/png": "[encoded data removed]"
          },
          "metadata": {}
        }
      ]
    },
    {
      "cell_type": "markdown",
      "source": [
        "##  Text Preprocessing"
      ],
      "metadata": {
        "id": "vBwxNr7C3WgY"
      }
    },
    {
      "cell_type": "markdown",
      "source": [
        "1. Cleaning"
      ],
      "metadata": {
        "id": "q4xeIZA33YDH"
      }
    },
    {
      "cell_type": "code",
      "source": [
        "def clean_text(text):\n",
        "    # Membersihkan teks dari karakter \\r\\n\\r\\n dan \\n\\n\n",
        "    text = text.replace('\\r\\n\\r\\n', ' ').replace('\\n\\n', ' ')\n",
        "\n",
        "    # Menambahkan spasi sebelum dan setelah tanda baca\n",
        "    for punctuation in string.punctuation:\n",
        "        text = text.replace(punctuation, f' {punctuation} ')\n",
        "\n",
        "    # Menghilangkan spasi berlebihan\n",
        "    text = ' '.join(text.split())\n",
        "\n",
        "    # Menghapus tanda baca dan simbol khusus\n",
        "    text = re.sub(r'[^a-zA-Z0-9\\s]', '', text)\n",
        "\n",
        "    # Menghapus kata dengan panjang kurang dari 3 karakter\n",
        "    text = ' '.join(word for word in text.split() if len(word) > 2)\n",
        "\n",
        "    return text\n",
        "\n",
        "# Membersihkan kolom 'Text' menggunakan fungsi clean_text\n",
        "iot['Text_Cleaning'] = iot['Text'].apply(clean_text)\n",
        "\n",
        "# Menghapus baris yang hanya berisi \"-\" atau kosong\n",
        "iot = iot[(iot['Text_Cleaning'] != '-') & (iot['Text_Cleaning'].str.strip() != '')]\n",
        "\n",
        "# Cetak dataset setelah pembersihan teks\n",
        "print(iot[['Text_Cleaning', 'Label', 'Sumber']].head(40))\n"
      ],
      "metadata": {
        "colab": {
          "base_uri": "https://localhost:8080/"
        },
        "id": "8BGcuuZgpGd6",
        "outputId": "c892cec8-c72e-47e7-b840-1ac2138ff8cd"
      },
      "execution_count": null,
      "outputs": [
        {
          "output_type": "stream",
          "name": "stdout",
          "text": [
            "                                        Text_Cleaning  Label     Sumber\n",
            "0   Berikut adalah nama komponen utama arsitektur ...  J_MHS  Mahasiswa\n",
            "1   CPU untuk mengontrol operasi komputer dan menj...  J_MHS  Mahasiswa\n",
            "2   memori untuk menyimpan dalam sementara waktu a...  J_MHS  Mahasiswa\n",
            "3   Cpu memproses data dan mengendalikan operasi p...  J_MHS  Mahasiswa\n",
            "4   Control Unit Berfungsi sebagai otak komputer m...  J_MHS  Mahasiswa\n",
            "5   CPU Bertugas mengeksekusi instruksi dan mempro...  J_MHS  Mahasiswa\n",
            "6   CPU Central Processing Unit Mengeksekusi instr...  J_MHS  Mahasiswa\n",
            "7   cpu mengeksekusi intruksi main memory menyimpa...  J_MHS  Mahasiswa\n",
            "8   UNIT PEMROSESAN SENTRAL CPU CENTRAL PROCESSING...  J_MHS  Mahasiswa\n",
            "9   Memory adalah tempat penyimpanan data dan inst...  J_MHS  Mahasiswa\n",
            "10  Unit Kontrol Bertugas mengatur dan mengendalik...  J_MHS  Mahasiswa\n",
            "11  Unit Pemrosesan Sentral Central Processing Uni...  J_MHS  Mahasiswa\n",
            "12  input output komputer menerima data atau instr...  J_MHS  Mahasiswa\n",
            "13  CPU Bertanggung jawab untuk mengeksekusi instr...  J_MHS  Mahasiswa\n",
            "14  ALU Arithmetic Logic Unit ALU merupakan bagian...  J_MHS  Mahasiswa\n",
            "15  Unit Pemroses Sentral CPU Komponen utama yang ...  J_MHS  Mahasiswa\n",
            "16  CPU Central Processing Unit Bertanggung jawab ...  J_MHS  Mahasiswa\n",
            "17  hardware berfungsi memberikan kemampuan untuk ...  J_MHS  Mahasiswa\n",
            "18  Unit Aritmatika dan Logika ALU Melakukan opera...  J_MHS  Mahasiswa\n",
            "19  ALU yang berfungsi sebagai pengeksekusi operas...  J_MHS  Mahasiswa\n",
            "20  CPU Central Processing Unit berfungsi sebagai ...  J_MHS  Mahasiswa\n",
            "21  Perbedaan antara mikrokontroler dan komputer t...  J_MHS  Mahasiswa\n",
            "22  Mikrokontroler adalah perangkat elektronik yan...  J_MHS  Mahasiswa\n",
            "23  Mikrokontroler adalah komputer yang sangat kec...  J_MHS  Mahasiswa\n",
            "24       mikrokontroler lebih cepat dibanding kompuer  J_MHS  Mahasiswa\n",
            "25  Mikrokontroler dan komputer adalah dua jenis p...  J_MHS  Mahasiswa\n",
            "26  Mikrokontroler dan komputer adalah dua jenis p...  J_MHS  Mahasiswa\n",
            "28        mikro dirancang utk mengendalikan perangkat  J_MHS  Mahasiswa\n",
            "29  MIKROKONTROLER Kompak konsumsi daya rendah dig...  J_MHS  Mahasiswa\n",
            "30  Mikrokontroler adalah komputer mini yang terin...  J_MHS  Mahasiswa\n",
            "31  Mikrokontrol Kecil hemat daya murah terintegra...  J_MHS  Mahasiswa\n",
            "33  mikrokontroler lebih sederhana dan terbatas da...  J_MHS  Mahasiswa\n",
            "34  Mikrokontroler Digunakan untuk tugas tugas spe...  J_MHS  Mahasiswa\n",
            "35  Mikrokontroler dirancang untuk aplikasi terten...  J_MHS  Mahasiswa\n",
            "36  Mikrokontroler Dirancang untuk melakukan tugas...  J_MHS  Mahasiswa\n",
            "37  Mikrokontroler adalah sistem komputer kecil ya...  J_MHS  Mahasiswa\n",
            "38                                     mikrokontroler  J_MHS  Mahasiswa\n",
            "39  Mikrokontroler Dirancang untuk melakukan tugas...  J_MHS  Mahasiswa\n",
            "41  Mikrokontroler adalah chip kecil yang mengenda...  J_MHS  Mahasiswa\n",
            "42  CPU berfungsi untuk mengontrol operasi dari ko...  J_MHS  Mahasiswa\n"
          ]
        }
      ]
    },
    {
      "cell_type": "markdown",
      "source": [
        "2. Case Folding"
      ],
      "metadata": {
        "id": "UjA52-5a3bPq"
      }
    },
    {
      "cell_type": "code",
      "source": [
        "# Fungsi untuk case folding\n",
        "def case_folding(text):\n",
        "    # Mengubah huruf kapital menjadi huruf kecil\n",
        "    return text.lower()\n",
        "\n",
        "# Terapkan fungsi case folding ke kolom teks pada dataset\n",
        "iot['Text_CaseFolding'] = iot['Text_Cleaning'].apply(case_folding)\n",
        "\n",
        "# Cetak informasi dataset setelah case folding\n",
        "print(iot[['Text_CaseFolding', 'Label', 'Sumber']].head(40))"
      ],
      "metadata": {
        "colab": {
          "base_uri": "https://localhost:8080/"
        },
        "id": "zSL2mcKApKVK",
        "outputId": "9b9dad2e-2570-483b-91a1-bb50a801905b"
      },
      "execution_count": null,
      "outputs": [
        {
          "output_type": "stream",
          "name": "stdout",
          "text": [
            "                                     Text_CaseFolding  Label     Sumber\n",
            "0   berikut adalah nama komponen utama arsitektur ...  J_MHS  Mahasiswa\n",
            "1   cpu untuk mengontrol operasi komputer dan menj...  J_MHS  Mahasiswa\n",
            "2   memori untuk menyimpan dalam sementara waktu a...  J_MHS  Mahasiswa\n",
            "3   cpu memproses data dan mengendalikan operasi p...  J_MHS  Mahasiswa\n",
            "4   control unit berfungsi sebagai otak komputer m...  J_MHS  Mahasiswa\n",
            "5   cpu bertugas mengeksekusi instruksi dan mempro...  J_MHS  Mahasiswa\n",
            "6   cpu central processing unit mengeksekusi instr...  J_MHS  Mahasiswa\n",
            "7   cpu mengeksekusi intruksi main memory menyimpa...  J_MHS  Mahasiswa\n",
            "8   unit pemrosesan sentral cpu central processing...  J_MHS  Mahasiswa\n",
            "9   memory adalah tempat penyimpanan data dan inst...  J_MHS  Mahasiswa\n",
            "10  unit kontrol bertugas mengatur dan mengendalik...  J_MHS  Mahasiswa\n",
            "11  unit pemrosesan sentral central processing uni...  J_MHS  Mahasiswa\n",
            "12  input output komputer menerima data atau instr...  J_MHS  Mahasiswa\n",
            "13  cpu bertanggung jawab untuk mengeksekusi instr...  J_MHS  Mahasiswa\n",
            "14  alu arithmetic logic unit alu merupakan bagian...  J_MHS  Mahasiswa\n",
            "15  unit pemroses sentral cpu komponen utama yang ...  J_MHS  Mahasiswa\n",
            "16  cpu central processing unit bertanggung jawab ...  J_MHS  Mahasiswa\n",
            "17  hardware berfungsi memberikan kemampuan untuk ...  J_MHS  Mahasiswa\n",
            "18  unit aritmatika dan logika alu melakukan opera...  J_MHS  Mahasiswa\n",
            "19  alu yang berfungsi sebagai pengeksekusi operas...  J_MHS  Mahasiswa\n",
            "20  cpu central processing unit berfungsi sebagai ...  J_MHS  Mahasiswa\n",
            "21  perbedaan antara mikrokontroler dan komputer t...  J_MHS  Mahasiswa\n",
            "22  mikrokontroler adalah perangkat elektronik yan...  J_MHS  Mahasiswa\n",
            "23  mikrokontroler adalah komputer yang sangat kec...  J_MHS  Mahasiswa\n",
            "24       mikrokontroler lebih cepat dibanding kompuer  J_MHS  Mahasiswa\n",
            "25  mikrokontroler dan komputer adalah dua jenis p...  J_MHS  Mahasiswa\n",
            "26  mikrokontroler dan komputer adalah dua jenis p...  J_MHS  Mahasiswa\n",
            "28        mikro dirancang utk mengendalikan perangkat  J_MHS  Mahasiswa\n",
            "29  mikrokontroler kompak konsumsi daya rendah dig...  J_MHS  Mahasiswa\n",
            "30  mikrokontroler adalah komputer mini yang terin...  J_MHS  Mahasiswa\n",
            "31  mikrokontrol kecil hemat daya murah terintegra...  J_MHS  Mahasiswa\n",
            "33  mikrokontroler lebih sederhana dan terbatas da...  J_MHS  Mahasiswa\n",
            "34  mikrokontroler digunakan untuk tugas tugas spe...  J_MHS  Mahasiswa\n",
            "35  mikrokontroler dirancang untuk aplikasi terten...  J_MHS  Mahasiswa\n",
            "36  mikrokontroler dirancang untuk melakukan tugas...  J_MHS  Mahasiswa\n",
            "37  mikrokontroler adalah sistem komputer kecil ya...  J_MHS  Mahasiswa\n",
            "38                                     mikrokontroler  J_MHS  Mahasiswa\n",
            "39  mikrokontroler dirancang untuk melakukan tugas...  J_MHS  Mahasiswa\n",
            "41  mikrokontroler adalah chip kecil yang mengenda...  J_MHS  Mahasiswa\n",
            "42  cpu berfungsi untuk mengontrol operasi dari ko...  J_MHS  Mahasiswa\n"
          ]
        },
        {
          "output_type": "stream",
          "name": "stderr",
          "text": [
            "<ipython-input-6-d98c3f015d40>:7: SettingWithCopyWarning: \n",
            "A value is trying to be set on a copy of a slice from a DataFrame.\n",
            "Try using .loc[row_indexer,col_indexer] = value instead\n",
            "\n",
            "See the caveats in the documentation: https://pandas.pydata.org/pandas-docs/stable/user_guide/indexing.html#returning-a-view-versus-a-copy\n",
            "  iot['Text_CaseFolding'] = iot['Text_Cleaning'].apply(case_folding)\n"
          ]
        }
      ]
    },
    {
      "cell_type": "markdown",
      "source": [
        "3. Normalize"
      ],
      "metadata": {
        "id": "mxGd12bw3e67"
      }
    },
    {
      "cell_type": "code",
      "source": [
        "# Membuat kamus typo dan normalisasi\n",
        "normalisasi_kata = {\n",
        "    \"lma\": \"lama\",\n",
        "    \"krluaran\": \"keluaran\",\n",
        "    \"peyimpanan\": \"penyimpanan\",\n",
        "    \"memeberikan\": \"memberikan\",\n",
        "    \"utunk\": \"untuk\",\n",
        "    \"untu\": \"untuk\",\n",
        "    \"penghubunbg\": \"penghubung\",\n",
        "    \"meprosesan\": \"memprosesan\",\n",
        "    \"kompu\": \"komputer\",\n",
        "    \"mengakitbatkan\": \"mengakibatkan\",\n",
        "    \"hanyabisa\": \"hanya bisa\",\n",
        "    \"memebrikan\": \"memberikan\",\n",
        "    \"trsbt\": \"tersebut\",\n",
        "    \"mejembatani\": \"menjembatani\",\n",
        "    \"berfungsu\": \"berfungsi\",\n",
        "    \"utk\": \"untuk\",\n",
        "    \"untukk\": \"untuk\",\n",
        "    \"intruksi\": \"instruksi\",\n",
        "    \"dafa\": \"data\",\n",
        "    \"penransferan\": \"pemindahan\",\n",
        "    \"kompurer\": \"komputer\",\n",
        "    \"mikrokontroll\": \"mikrokontrol\",\n",
        "    \"prangkat\": \"perangkat\",\n",
        "    \"masing2\": \"masing-masing\",\n",
        "    \"outputin\": \"output in\",\n",
        "    \"subuah\": \"sebuah\",\n",
        "    \"memorytempat\": \"memory tempat\",\n",
        "    \"memliki\": \"memiliki\",\n",
        "    \"mengoprasikan\": \"mengoperasikan\",\n",
        "    \"kedu\": \"kedua\",\n",
        "    \"untunk\": \"untuk\",\n",
        "    \"mengakitbatkan\": \"mengakibatkan\",\n",
        "    \"digunakna\": \"digunakan\",\n",
        "    \"menbg\": \"meng\",\n",
        "    \"bissa\": \"bisa\",\n",
        "    \"alumelakukan\": \"lalu melakukan\",\n",
        "    \"komponen2\": \"komponen-komponen\",\n",
        "    \"kontroller\": \"kontroler\",\n",
        "    \"advan\": \"advance\",\n",
        "    \"terdjri\": \"terdiri\",\n",
        "    \"kegunaanya\": \"kegunaannya\",\n",
        "    \"komputerter\" : \"komputer\"\n",
        "}\n",
        "\n",
        "# Fungsi untuk normalisasi typo dan singkatan\n",
        "def normalisasi_teks(text):\n",
        "    for typo, correct in normalisasi_kata.items():\n",
        "        text = text.replace(typo, correct)\n",
        "    return text\n",
        "\n",
        "# Terapkan normalisasi pada kolom teks\n",
        "iot['Text_Normalized'] = iot['Text_CaseFolding'].apply(normalisasi_teks)\n",
        "\n",
        "# Cetak hasil setelah normalisasi\n",
        "print(iot[['Text_Normalized', 'Label', 'Sumber']].head(40))"
      ],
      "metadata": {
        "colab": {
          "base_uri": "https://localhost:8080/"
        },
        "id": "X4wqm2U-pL9N",
        "outputId": "552d2b4a-70c6-4543-cc1f-5d556f9331af"
      },
      "execution_count": null,
      "outputs": [
        {
          "output_type": "stream",
          "name": "stdout",
          "text": [
            "                                      Text_Normalized  Label     Sumber\n",
            "0   berikut adalah nama komponen utama arsitektur ...  J_MHS  Mahasiswa\n",
            "1   cpu untuk mengontrol operasi komputer dan menj...  J_MHS  Mahasiswa\n",
            "2   memori untuk menyimpan dalam sementara waktu a...  J_MHS  Mahasiswa\n",
            "3   cpu memproses data dan mengendalikan operasi p...  J_MHS  Mahasiswa\n",
            "4   control unit berfungsi sebagai otak komputer m...  J_MHS  Mahasiswa\n",
            "5   cpu bertugas mengeksekusi instruksi dan mempro...  J_MHS  Mahasiswa\n",
            "6   cpu central processing unit mengeksekusi instr...  J_MHS  Mahasiswa\n",
            "7   cpu mengeksekusi instruksi main memory menyimp...  J_MHS  Mahasiswa\n",
            "8   unit pemrosesan sentral cpu central processing...  J_MHS  Mahasiswa\n",
            "9   memory adalah tempat penyimpanan data dan inst...  J_MHS  Mahasiswa\n",
            "10  unit kontrol bertugas mengatur dan mengendalik...  J_MHS  Mahasiswa\n",
            "11  unit pemrosesan sentral central processing uni...  J_MHS  Mahasiswa\n",
            "12  input output komputer menerima data atau instr...  J_MHS  Mahasiswa\n",
            "13  cpu bertanggung jawab untuk mengeksekusi instr...  J_MHS  Mahasiswa\n",
            "14  alu arithmetic logic unit alu merupakan bagian...  J_MHS  Mahasiswa\n",
            "15  unit pemroses sentral cpu komponen utama yang ...  J_MHS  Mahasiswa\n",
            "16  cpu central processing unit bertanggung jawab ...  J_MHS  Mahasiswa\n",
            "17  hardware berfungsi memberikan kemampuan untuk ...  J_MHS  Mahasiswa\n",
            "18  unit aritmatika dan logika alu melakukan opera...  J_MHS  Mahasiswa\n",
            "19  alu yang berfungsi sebagai pengeksekusi operas...  J_MHS  Mahasiswa\n",
            "20  cpu central processing unit berfungsi sebagai ...  J_MHS  Mahasiswa\n",
            "21  perbedaan antara mikrokontroler dan komputer t...  J_MHS  Mahasiswa\n",
            "22  mikrokontroler adalah perangkat elektronik yan...  J_MHS  Mahasiswa\n",
            "23  mikrokontroler adalah komputer yang sangat kec...  J_MHS  Mahasiswa\n",
            "24    mikrokontroler lebih cepat dibanding komputerer  J_MHS  Mahasiswa\n",
            "25  mikrokontroler dan komputer adalah dua jenis p...  J_MHS  Mahasiswa\n",
            "26  mikrokontroler dan komputer adalah dua jenis p...  J_MHS  Mahasiswa\n",
            "28      mikro dirancang untuk mengendalikan perangkat  J_MHS  Mahasiswa\n",
            "29  mikrokontroler kompak konsumsi daya rendah dig...  J_MHS  Mahasiswa\n",
            "30  mikrokontroler adalah komputer mini yang terin...  J_MHS  Mahasiswa\n",
            "31  mikrokontrol kecil hemat daya murah terintegra...  J_MHS  Mahasiswa\n",
            "33  mikrokontroler lebih sederhana dan terbatas da...  J_MHS  Mahasiswa\n",
            "34  mikrokontroler digunakan untuk tugas tugas spe...  J_MHS  Mahasiswa\n",
            "35  mikrokontroler dirancang untuk aplikasi terten...  J_MHS  Mahasiswa\n",
            "36  mikrokontroler dirancang untuk melakukan tugas...  J_MHS  Mahasiswa\n",
            "37  mikrokontroler adalah sistem komputer kecil ya...  J_MHS  Mahasiswa\n",
            "38                                     mikrokontroler  J_MHS  Mahasiswa\n",
            "39  mikrokontroler dirancang untuk melakukan tugas...  J_MHS  Mahasiswa\n",
            "41  mikrokontroler adalah chip kecil yang mengenda...  J_MHS  Mahasiswa\n",
            "42  cpu berfungsi untuk mengontrol operasi dari ko...  J_MHS  Mahasiswa\n"
          ]
        },
        {
          "output_type": "stream",
          "name": "stderr",
          "text": [
            "<ipython-input-7-0e7930e7998e>:54: SettingWithCopyWarning: \n",
            "A value is trying to be set on a copy of a slice from a DataFrame.\n",
            "Try using .loc[row_indexer,col_indexer] = value instead\n",
            "\n",
            "See the caveats in the documentation: https://pandas.pydata.org/pandas-docs/stable/user_guide/indexing.html#returning-a-view-versus-a-copy\n",
            "  iot['Text_Normalized'] = iot['Text_CaseFolding'].apply(normalisasi_teks)\n"
          ]
        }
      ]
    },
    {
      "cell_type": "markdown",
      "source": [
        "4. Tokenization"
      ],
      "metadata": {
        "id": "0ZjNoTGc3f5M"
      }
    },
    {
      "cell_type": "code",
      "source": [
        "# Fungsi untuk melakukan tokenisasi\n",
        "def tokenisasi(text):\n",
        "    # Menggunakan word_tokenize dari NLTK untuk memecah teks menjadi kata-kata\n",
        "    return nltk.word_tokenize(text)\n",
        "\n",
        "# Terapkan fungsi tokenisasi ke kolom 'Text' pada dataset\n",
        "iot['Text_Token'] = iot['Text_Normalized'].apply(tokenisasi)\n",
        "\n",
        "# Cetak dataset setelah proses tokenisasi\n",
        "print(iot[['Text_Token', 'Label', 'Sumber']].head(40))\n"
      ],
      "metadata": {
        "colab": {
          "base_uri": "https://localhost:8080/"
        },
        "id": "0FNxsAKjpRSX",
        "outputId": "ccfd9beb-2469-442a-d069-4176745d9075"
      },
      "execution_count": null,
      "outputs": [
        {
          "output_type": "stream",
          "name": "stdout",
          "text": [
            "                                           Text_Token  Label     Sumber\n",
            "0   [berikut, adalah, nama, komponen, utama, arsit...  J_MHS  Mahasiswa\n",
            "1   [cpu, untuk, mengontrol, operasi, komputer, da...  J_MHS  Mahasiswa\n",
            "2   [memori, untuk, menyimpan, dalam, sementara, w...  J_MHS  Mahasiswa\n",
            "3   [cpu, memproses, data, dan, mengendalikan, ope...  J_MHS  Mahasiswa\n",
            "4   [control, unit, berfungsi, sebagai, otak, komp...  J_MHS  Mahasiswa\n",
            "5   [cpu, bertugas, mengeksekusi, instruksi, dan, ...  J_MHS  Mahasiswa\n",
            "6   [cpu, central, processing, unit, mengeksekusi,...  J_MHS  Mahasiswa\n",
            "7   [cpu, mengeksekusi, instruksi, main, memory, m...  J_MHS  Mahasiswa\n",
            "8   [unit, pemrosesan, sentral, cpu, central, proc...  J_MHS  Mahasiswa\n",
            "9   [memory, adalah, tempat, penyimpanan, data, da...  J_MHS  Mahasiswa\n",
            "10  [unit, kontrol, bertugas, mengatur, dan, menge...  J_MHS  Mahasiswa\n",
            "11  [unit, pemrosesan, sentral, central, processin...  J_MHS  Mahasiswa\n",
            "12  [input, output, komputer, menerima, data, atau...  J_MHS  Mahasiswa\n",
            "13  [cpu, bertanggung, jawab, untuk, mengeksekusi,...  J_MHS  Mahasiswa\n",
            "14  [alu, arithmetic, logic, unit, alu, merupakan,...  J_MHS  Mahasiswa\n",
            "15  [unit, pemroses, sentral, cpu, komponen, utama...  J_MHS  Mahasiswa\n",
            "16  [cpu, central, processing, unit, bertanggung, ...  J_MHS  Mahasiswa\n",
            "17  [hardware, berfungsi, memberikan, kemampuan, u...  J_MHS  Mahasiswa\n",
            "18  [unit, aritmatika, dan, logika, alu, melakukan...  J_MHS  Mahasiswa\n",
            "19  [alu, yang, berfungsi, sebagai, pengeksekusi, ...  J_MHS  Mahasiswa\n",
            "20  [cpu, central, processing, unit, berfungsi, se...  J_MHS  Mahasiswa\n",
            "21  [perbedaan, antara, mikrokontroler, dan, kompu...  J_MHS  Mahasiswa\n",
            "22  [mikrokontroler, adalah, perangkat, elektronik...  J_MHS  Mahasiswa\n",
            "23  [mikrokontroler, adalah, komputer, yang, sanga...  J_MHS  Mahasiswa\n",
            "24  [mikrokontroler, lebih, cepat, dibanding, komp...  J_MHS  Mahasiswa\n",
            "25  [mikrokontroler, dan, komputer, adalah, dua, j...  J_MHS  Mahasiswa\n",
            "26  [mikrokontroler, dan, komputer, adalah, dua, j...  J_MHS  Mahasiswa\n",
            "28  [mikro, dirancang, untuk, mengendalikan, peran...  J_MHS  Mahasiswa\n",
            "29  [mikrokontroler, kompak, konsumsi, daya, renda...  J_MHS  Mahasiswa\n",
            "30  [mikrokontroler, adalah, komputer, mini, yang,...  J_MHS  Mahasiswa\n",
            "31  [mikrokontrol, kecil, hemat, daya, murah, teri...  J_MHS  Mahasiswa\n",
            "33  [mikrokontroler, lebih, sederhana, dan, terbat...  J_MHS  Mahasiswa\n",
            "34  [mikrokontroler, digunakan, untuk, tugas, tuga...  J_MHS  Mahasiswa\n",
            "35  [mikrokontroler, dirancang, untuk, aplikasi, t...  J_MHS  Mahasiswa\n",
            "36  [mikrokontroler, dirancang, untuk, melakukan, ...  J_MHS  Mahasiswa\n",
            "37  [mikrokontroler, adalah, sistem, komputer, kec...  J_MHS  Mahasiswa\n",
            "38                                   [mikrokontroler]  J_MHS  Mahasiswa\n",
            "39  [mikrokontroler, dirancang, untuk, melakukan, ...  J_MHS  Mahasiswa\n",
            "41  [mikrokontroler, adalah, chip, kecil, yang, me...  J_MHS  Mahasiswa\n",
            "42  [cpu, berfungsi, untuk, mengontrol, operasi, d...  J_MHS  Mahasiswa\n"
          ]
        }
      ]
    },
    {
      "cell_type": "markdown",
      "source": [
        "5. Filtering (Stopwords Removal)"
      ],
      "metadata": {
        "id": "aKPCpOVV3ijy"
      }
    },
    {
      "cell_type": "code",
      "source": [
        "# Fungsi untuk menghapus stopword dari teks yang sudah dalam bentuk token\n",
        "def remove_stopwords(tokens):\n",
        "    stop_words = set(stopwords.words('indonesian'))  # Menggunakan stopwords bahasa Indonesia\n",
        "    filtered_tokens = [word for word in tokens if word.lower() not in stop_words]\n",
        "    return filtered_tokens\n",
        "\n",
        "# Terapkan fungsi untuk menghapus stopwords pada kolom tokenisasi di dataset\n",
        "iot['Text_Stopwords'] = iot['Text_Token'].apply(remove_stopwords)\n",
        "\n",
        "# Cetak informasi dataset setelah penghapusan stopwords\n",
        "print(iot[['Text_Stopwords', 'Label', 'Sumber']].head(25))"
      ],
      "metadata": {
        "colab": {
          "base_uri": "https://localhost:8080/"
        },
        "id": "-YYDFoJspT_5",
        "outputId": "046705e1-f21d-49a1-cf70-b46bf902ae2e"
      },
      "execution_count": null,
      "outputs": [
        {
          "output_type": "stream",
          "name": "stdout",
          "text": [
            "                                       Text_Stopwords  Label     Sumber\n",
            "0   [nama, komponen, utama, arsitektur, komputer, ...  J_MHS  Mahasiswa\n",
            "1   [cpu, mengontrol, operasi, komputer, menjalank...  J_MHS  Mahasiswa\n",
            "2                                 [memori, menyimpan]  J_MHS  Mahasiswa\n",
            "3   [cpu, memproses, data, mengendalikan, operasi,...  J_MHS  Mahasiswa\n",
            "4   [control, unit, berfungsi, otak, komputer, men...  J_MHS  Mahasiswa\n",
            "5   [cpu, bertugas, mengeksekusi, instruksi, mempr...  J_MHS  Mahasiswa\n",
            "6   [cpu, central, processing, unit, mengeksekusi,...  J_MHS  Mahasiswa\n",
            "7   [cpu, mengeksekusi, instruksi, main, memory, m...  J_MHS  Mahasiswa\n",
            "8   [unit, pemrosesan, sentral, cpu, central, proc...  J_MHS  Mahasiswa\n",
            "9   [memory, penyimpanan, data, instruksi, diprose...  J_MHS  Mahasiswa\n",
            "10  [unit, kontrol, bertugas, mengatur, mengendali...  J_MHS  Mahasiswa\n",
            "11  [unit, pemrosesan, sentral, central, processin...  J_MHS  Mahasiswa\n",
            "12  [input, output, komputer, menerima, data, inst...  J_MHS  Mahasiswa\n",
            "13  [cpu, bertanggung, mengeksekusi, instruksi, me...  J_MHS  Mahasiswa\n",
            "14  [alu, arithmetic, logic, unit, alu, mikroprose...  J_MHS  Mahasiswa\n",
            "15  [unit, pemroses, sentral, cpu, komponen, utama...  J_MHS  Mahasiswa\n",
            "16  [cpu, central, processing, unit, bertanggung, ...  J_MHS  Mahasiswa\n",
            "17  [hardware, berfungsi, kemampuan, memperoleh, d...  J_MHS  Mahasiswa\n",
            "18  [unit, aritmatika, logika, alu, operasi, aritm...  J_MHS  Mahasiswa\n",
            "19  [alu, berfungsi, pengeksekusi, operasi, aritma...  J_MHS  Mahasiswa\n",
            "20  [cpu, central, processing, unit, berfungsi, ot...  J_MHS  Mahasiswa\n",
            "21  [perbedaan, mikrokontroler, komputer, terletak...  J_MHS  Mahasiswa\n",
            "22  [mikrokontroler, perangkat, elektronik, memili...  J_MHS  Mahasiswa\n",
            "23  [mikrokontroler, komputer, sistem, ram, rom, t...  J_MHS  Mahasiswa\n",
            "24     [mikrokontroler, cepat, dibanding, komputerer]  J_MHS  Mahasiswa\n"
          ]
        }
      ]
    },
    {
      "cell_type": "markdown",
      "source": [
        "6. Stemming"
      ],
      "metadata": {
        "id": "xS62pJea3k_j"
      }
    },
    {
      "cell_type": "code",
      "source": [
        "# Membuat objek stemmer\n",
        "factory = StemmerFactory()\n",
        "stemmer = factory.create_stemmer()\n",
        "\n",
        "# Fungsi untuk melakukan stemming\n",
        "def stem_tokens(tokens):\n",
        "    return [stemmer.stem(token) for token in tokens]\n",
        "\n",
        "# Terapkan fungsi stemming ke kolom Tokens pada DataFrame\n",
        "iot.loc[:, 'Stemmed_Tokens'] = iot.loc[:, 'Text_Stopwords'].apply(stem_tokens)\n",
        "\n",
        "# Cetak informasi dataset setelah tokenisasi dan stemming\n",
        "print(iot[['Stemmed_Tokens', 'Label', 'Sumber']].head(20))"
      ],
      "metadata": {
        "colab": {
          "base_uri": "https://localhost:8080/"
        },
        "id": "9yO9tQqHpWOt",
        "outputId": "8379c762-9f12-419f-92ad-287b8caad7ad"
      },
      "execution_count": null,
      "outputs": [
        {
          "output_type": "stream",
          "name": "stdout",
          "text": [
            "                                       Stemmed_Tokens  Label     Sumber\n",
            "0   [nama, komponen, utama, arsitektur, komputer, ...  J_MHS  Mahasiswa\n",
            "1   [cpu, kontrol, operasi, komputer, jalan, fungs...  J_MHS  Mahasiswa\n",
            "2                                    [memori, simpan]  J_MHS  Mahasiswa\n",
            "3   [cpu, proses, data, kendali, operasi, komputer...  J_MHS  Mahasiswa\n",
            "4   [control, unit, fungsi, otak, komputer, atur, ...  J_MHS  Mahasiswa\n",
            "5   [cpu, tugas, eksekusi, instruksi, proses, data...  J_MHS  Mahasiswa\n",
            "6   [cpu, central, processing, unit, eksekusi, ins...  J_MHS  Mahasiswa\n",
            "7   [cpu, eksekusi, instruksi, main, memory, simpa...  J_MHS  Mahasiswa\n",
            "8   [unit, pemrosesan, sentral, cpu, central, proc...  J_MHS  Mahasiswa\n",
            "9   [memory, simpan, data, instruksi, proses, cpu,...  J_MHS  Mahasiswa\n",
            "10  [unit, kontrol, tugas, atur, kendali, operasi,...  J_MHS  Mahasiswa\n",
            "11  [unit, pemrosesan, sentral, central, processin...  J_MHS  Mahasiswa\n",
            "12  [input, output, komputer, terima, data, instru...  J_MHS  Mahasiswa\n",
            "13  [cpu, tanggung, eksekusi, instruksi, olah, dat...  J_MHS  Mahasiswa\n",
            "14  [alu, arithmetic, logic, unit, alu, mikroprose...  J_MHS  Mahasiswa\n",
            "15  [unit, pemroses, sentral, cpu, komponen, utama...  J_MHS  Mahasiswa\n",
            "16  [cpu, central, processing, unit, tanggung, eks...  J_MHS  Mahasiswa\n",
            "17  [hardware, fungsi, mampu, oleh, data, respon, ...  J_MHS  Mahasiswa\n",
            "18  [unit, aritmatika, logika, alu, operasi, aritm...  J_MHS  Mahasiswa\n",
            "19  [alu, fungsi, eksekusi, operasi, aritmatika, l...  J_MHS  Mahasiswa\n"
          ]
        }
      ]
    },
    {
      "cell_type": "markdown",
      "source": [
        "## Data Spliting"
      ],
      "metadata": {
        "id": "RJVNzA_p3oIJ"
      }
    },
    {
      "cell_type": "code",
      "source": [
        "#Membagi dataset menjadi 90% untuk pelatihan dan 10% untuk test\n",
        "iot_train, iot_test = train_test_split(iot[['Stemmed_Tokens', 'Label', 'Sumber']], test_size=0.10, random_state=42)"
      ],
      "metadata": {
        "id": "uk3dAI1wqNDl"
      },
      "execution_count": null,
      "outputs": []
    },
    {
      "cell_type": "code",
      "source": [
        "# Memisahkan fitur dan label untuk data pelatihan dan pengujian\n",
        "X_train = iot_train['Stemmed_Tokens']\n",
        "y_train = iot_train['Label']\n",
        "X_test = iot_test['Stemmed_Tokens']\n",
        "y_test = iot_test['Label']"
      ],
      "metadata": {
        "id": "6zUkm1OwqiuM"
      },
      "execution_count": null,
      "outputs": []
    },
    {
      "cell_type": "markdown",
      "source": [
        "## Feature Extraction"
      ],
      "metadata": {
        "id": "c4qP_ujR3zIG"
      }
    },
    {
      "cell_type": "code",
      "source": [
        "# Menggabungkan token menjadi string (jika token dalam bentuk list)\n",
        "X_train = X_train.apply(lambda tokens: ' '.join(tokens) if isinstance(tokens, list) else tokens)\n",
        "X_test = X_test.apply(lambda tokens: ' '.join(tokens) if isinstance(tokens, list) else tokens)\n",
        "\n",
        "# Menggunakan CountVectorizer untuk menghitung frekuensi kata\n",
        "count_vectorizer = CountVectorizer()\n",
        "X_train_counts = count_vectorizer.fit_transform(X_train)\n",
        "X_test_counts = count_vectorizer.transform(X_test)\n",
        "\n",
        "# Menggunakan TfidfTransformer untuk mengubah frekuensi kata menjadi representasi TF-IDF\n",
        "tfidf_transformer = TfidfTransformer()\n",
        "X_train_tfidf = tfidf_transformer.fit_transform(X_train_counts)\n",
        "X_test_tfidf = tfidf_transformer.transform(X_test_counts)\n",
        "\n",
        "# Menampilkan ukuran representasi TF-IDF\n",
        "print(f'Ukuran set pelatihan TF-IDF: {X_train_tfidf.shape}')\n",
        "print(f'Ukuran set pengujian TF-IDF: {X_test_tfidf.shape}')"
      ],
      "metadata": {
        "colab": {
          "base_uri": "https://localhost:8080/"
        },
        "id": "uCZs6BSsqzVj",
        "outputId": "5fc5a628-9fd6-4bd4-9482-71c92618b812"
      },
      "execution_count": null,
      "outputs": [
        {
          "output_type": "stream",
          "name": "stdout",
          "text": [
            "Ukuran set pelatihan TF-IDF: (720, 1378)\n",
            "Ukuran set pengujian TF-IDF: (80, 1378)\n"
          ]
        }
      ]
    },
    {
      "cell_type": "markdown",
      "source": [
        "## Modeling and Evaluation"
      ],
      "metadata": {
        "id": "dbaI4gH-32-U"
      }
    },
    {
      "cell_type": "markdown",
      "source": [
        "1. SVM dengan Kernel Linear"
      ],
      "metadata": {
        "id": "J8r-47uX34Ap"
      }
    },
    {
      "cell_type": "code",
      "source": [
        "from sklearn.svm import SVC\n",
        "from sklearn.model_selection import cross_val_score\n",
        "from sklearn.metrics import accuracy_score\n",
        "\n",
        "# Daftar nilai C yang ingin dicoba\n",
        "C_values = [0.1, 1, 10, 100]\n",
        "accuracies = {}\n",
        "\n",
        "# Melakukan klasifikasi dengan setiap nilai C\n",
        "for C in C_values:\n",
        "    model = SVC(kernel='linear', C=C)\n",
        "\n",
        "    # Melakukan cross-validation (misalnya, 10-fold cross-validation)\n",
        "    scores = cross_val_score(model, X_train_tfidf, y_train, cv=10, scoring='accuracy')  # Menggunakan 10-fold cross-validation\n",
        "\n",
        "    # Menyimpan rata-rata akurasi dari cross-validation\n",
        "    accuracies[C] = scores.mean()\n",
        "\n",
        "# Menampilkan akurasi untuk setiap nilai C\n",
        "print(\"\\nAkurasi rata-rata untuk masing-masing nilai C (cross-validation):\")\n",
        "for C, acc in accuracies.items():\n",
        "    print(f'C = {C}: Akurasi = {acc:.4f}')\n"
      ],
      "metadata": {
        "colab": {
          "base_uri": "https://localhost:8080/"
        },
        "id": "mFGPZT3TvSbN",
        "outputId": "fd55265c-5c81-45a5-ff07-bb0c10fe50ad"
      },
      "execution_count": null,
      "outputs": [
        {
          "output_type": "stream",
          "name": "stdout",
          "text": [
            "\n",
            "Akurasi rata-rata untuk masing-masing nilai C (cross-validation):\n",
            "C = 0.1: Akurasi = 0.8778\n",
            "C = 1: Akurasi = 0.9153\n",
            "C = 10: Akurasi = 0.9097\n",
            "C = 100: Akurasi = 0.9000\n"
          ]
        }
      ]
    },
    {
      "cell_type": "markdown",
      "source": [
        "2. SVM dengan Kernel RBF"
      ],
      "metadata": {
        "id": "Nt-I_Yj337np"
      }
    },
    {
      "cell_type": "code",
      "source": [
        "from sklearn.svm import SVC\n",
        "from sklearn.model_selection import cross_val_score\n",
        "from sklearn.metrics import accuracy_score\n",
        "\n",
        "# Daftar nilai C dan gamma yang ingin dicoba\n",
        "C_values = [0.1, 1, 10, 100]\n",
        "gamma_values = [0.1, 1, 10]\n",
        "results = {}\n",
        "\n",
        "# Melakukan klasifikasi dengan setiap kombinasi C dan gamma\n",
        "for C in C_values:\n",
        "    for gamma in gamma_values:\n",
        "        model = SVC(kernel='rbf', C=C, gamma=gamma)\n",
        "\n",
        "        # Melakukan cross-validation (misalnya, 10-fold cross-validation)\n",
        "        scores = cross_val_score(model, X_train_tfidf, y_train, cv=10, scoring='accuracy')  # Menggunakan 10-fold cross-validation\n",
        "\n",
        "        # Menyimpan rata-rata akurasi dari cross-validation\n",
        "        results[(C, gamma)] = scores.mean()\n",
        "\n",
        "# Menampilkan akurasi rata-rata untuk setiap kombinasi C dan gamma\n",
        "print(\"\\nAkurasi rata-rata untuk masing-masing kombinasi C dan gamma (cross-validation):\")\n",
        "for (C, gamma), acc in results.items():\n",
        "    print(f'C = {C}, gamma = {gamma}: Akurasi = {acc:.4f}')\n"
      ],
      "metadata": {
        "colab": {
          "base_uri": "https://localhost:8080/"
        },
        "id": "hXjvXXGhvrcz",
        "outputId": "44d14ca9-8c36-4962-8e18-91dbde276e3a"
      },
      "execution_count": null,
      "outputs": [
        {
          "output_type": "stream",
          "name": "stdout",
          "text": [
            "\n",
            "Akurasi rata-rata untuk masing-masing kombinasi C dan gamma (cross-validation):\n",
            "C = 0.1, gamma = 0.1: Akurasi = 0.5181\n",
            "C = 0.1, gamma = 1: Akurasi = 0.8625\n",
            "C = 0.1, gamma = 10: Akurasi = 0.5139\n",
            "C = 1, gamma = 0.1: Akurasi = 0.8889\n",
            "C = 1, gamma = 1: Akurasi = 0.9250\n",
            "C = 1, gamma = 10: Akurasi = 0.7042\n",
            "C = 10, gamma = 0.1: Akurasi = 0.9236\n",
            "C = 10, gamma = 1: Akurasi = 0.9347\n",
            "C = 10, gamma = 10: Akurasi = 0.7375\n",
            "C = 100, gamma = 0.1: Akurasi = 0.9153\n",
            "C = 100, gamma = 1: Akurasi = 0.9347\n",
            "C = 100, gamma = 10: Akurasi = 0.7375\n"
          ]
        }
      ]
    },
    {
      "cell_type": "markdown",
      "source": [
        "3. SVM dengan Kernel Polynomial"
      ],
      "metadata": {
        "id": "JwWp37PA396Q"
      }
    },
    {
      "cell_type": "code",
      "source": [
        "from sklearn.svm import SVC\n",
        "from sklearn.model_selection import cross_val_score\n",
        "\n",
        "# Daftar nilai C, gamma, dan degree yang ingin dicoba\n",
        "C_values = [0.1, 1, 10, 100]\n",
        "gamma_values = [0.1, 1, 10]\n",
        "degree_values = [2, 3, 4]\n",
        "results = {}\n",
        "\n",
        "# Melakukan klasifikasi dengan setiap kombinasi C, gamma, dan degree\n",
        "for C in C_values:\n",
        "    for gamma in gamma_values:\n",
        "        for degree in degree_values:\n",
        "            model = SVC(kernel='poly', C=C, gamma=gamma, degree=degree)\n",
        "\n",
        "            # Melakukan cross-validation (misalnya, 10-fold cross-validation)\n",
        "            scores = cross_val_score(model, X_train_tfidf, y_train, cv=10, scoring='accuracy')  # 10-fold cross-validation\n",
        "\n",
        "            # Menyimpan rata-rata akurasi dari cross-validation\n",
        "            results[(C, gamma, degree)] = scores.mean()\n",
        "\n",
        "# Menampilkan akurasi rata-rata untuk setiap kombinasi C, gamma, dan degree\n",
        "print(\"\\nAkurasi rata-rata untuk masing-masing kombinasi C, gamma, dan degree (cross-validation):\")\n",
        "for (C, gamma, degree), acc in results.items():\n",
        "    print(f'C = {C}, gamma = {gamma}, degree = {degree}: Akurasi = {acc:.4f}')\n"
      ],
      "metadata": {
        "colab": {
          "base_uri": "https://localhost:8080/"
        },
        "id": "ZH4W4Yi8wL-w",
        "outputId": "2633f324-eee7-4d98-80b5-0ef7c16ffe36"
      },
      "execution_count": null,
      "outputs": [
        {
          "output_type": "stream",
          "name": "stdout",
          "text": [
            "\n",
            "Akurasi rata-rata untuk masing-masing kombinasi C, gamma, dan degree (cross-validation):\n",
            "C = 0.1, gamma = 0.1, degree = 2: Akurasi = 0.5139\n",
            "C = 0.1, gamma = 0.1, degree = 3: Akurasi = 0.5139\n",
            "C = 0.1, gamma = 0.1, degree = 4: Akurasi = 0.5139\n",
            "C = 0.1, gamma = 1, degree = 2: Akurasi = 0.8597\n",
            "C = 0.1, gamma = 1, degree = 3: Akurasi = 0.8042\n",
            "C = 0.1, gamma = 1, degree = 4: Akurasi = 0.8083\n",
            "C = 0.1, gamma = 10, degree = 2: Akurasi = 0.9361\n",
            "C = 0.1, gamma = 10, degree = 3: Akurasi = 0.9167\n",
            "C = 0.1, gamma = 10, degree = 4: Akurasi = 0.8944\n",
            "C = 1, gamma = 0.1, degree = 2: Akurasi = 0.5139\n",
            "C = 1, gamma = 0.1, degree = 3: Akurasi = 0.5139\n",
            "C = 1, gamma = 0.1, degree = 4: Akurasi = 0.5139\n",
            "C = 1, gamma = 1, degree = 2: Akurasi = 0.9306\n",
            "C = 1, gamma = 1, degree = 3: Akurasi = 0.9097\n",
            "C = 1, gamma = 1, degree = 4: Akurasi = 0.8847\n",
            "C = 1, gamma = 10, degree = 2: Akurasi = 0.9361\n",
            "C = 1, gamma = 10, degree = 3: Akurasi = 0.9167\n",
            "C = 1, gamma = 10, degree = 4: Akurasi = 0.8944\n",
            "C = 10, gamma = 0.1, degree = 2: Akurasi = 0.8597\n",
            "C = 10, gamma = 0.1, degree = 3: Akurasi = 0.5139\n",
            "C = 10, gamma = 0.1, degree = 4: Akurasi = 0.5139\n",
            "C = 10, gamma = 1, degree = 2: Akurasi = 0.9361\n",
            "C = 10, gamma = 1, degree = 3: Akurasi = 0.9167\n",
            "C = 10, gamma = 1, degree = 4: Akurasi = 0.8944\n",
            "C = 10, gamma = 10, degree = 2: Akurasi = 0.9361\n",
            "C = 10, gamma = 10, degree = 3: Akurasi = 0.9167\n",
            "C = 10, gamma = 10, degree = 4: Akurasi = 0.8944\n",
            "C = 100, gamma = 0.1, degree = 2: Akurasi = 0.9306\n",
            "C = 100, gamma = 0.1, degree = 3: Akurasi = 0.8042\n",
            "C = 100, gamma = 0.1, degree = 4: Akurasi = 0.5139\n",
            "C = 100, gamma = 1, degree = 2: Akurasi = 0.9361\n",
            "C = 100, gamma = 1, degree = 3: Akurasi = 0.9167\n",
            "C = 100, gamma = 1, degree = 4: Akurasi = 0.8944\n",
            "C = 100, gamma = 10, degree = 2: Akurasi = 0.9361\n",
            "C = 100, gamma = 10, degree = 3: Akurasi = 0.9167\n",
            "C = 100, gamma = 10, degree = 4: Akurasi = 0.8944\n"
          ]
        }
      ]
    },
    {
      "cell_type": "markdown",
      "source": [
        "## Mencari Parameter Terbaik dari K-Fold"
      ],
      "metadata": {
        "id": "wBehDOEQ4Ag3"
      }
    },
    {
      "cell_type": "code",
      "source": [
        "from sklearn.model_selection import GridSearchCV\n",
        "from sklearn.svm import SVC\n",
        "\n",
        "# Menentukan parameter grid untuk masing-masing kernel\n",
        "param_grid = {\n",
        "    'linear': {\n",
        "        'C': [0.1, 1, 10, 100]\n",
        "    },\n",
        "    'poly': {\n",
        "        'C': [0.1, 1, 10, 100],\n",
        "        'gamma': [0.1, 1, 10],\n",
        "        'degree': [2, 3, 4]\n",
        "    },\n",
        "    'rbf': {\n",
        "        'C': [0.1, 1, 10, 100],\n",
        "        'gamma': [0.1, 1, 10]\n",
        "    }\n",
        "}\n",
        "\n",
        "# Menyimpan hasil terbaik untuk masing-masing kernel\n",
        "best_models = {}\n",
        "\n",
        "# Melakukan Grid Search untuk setiap kernel\n",
        "for kernel, params in param_grid.items():\n",
        "    print(f\"Melakukan Grid Search untuk kernel: {kernel}\")\n",
        "\n",
        "    # Menentukan parameter yang sesuai dengan kernel yang dipilih\n",
        "    if kernel == 'linear':\n",
        "        model = SVC(kernel='linear')\n",
        "    elif kernel == 'poly':\n",
        "        model = SVC(kernel='poly')\n",
        "    else:\n",
        "        model = SVC(kernel='rbf')\n",
        "\n",
        "    # Membuat GridSearchCV\n",
        "    grid = GridSearchCV(model, param_grid=params, cv=10, scoring='accuracy')\n",
        "\n",
        "    # Melatih model dan mencari parameter terbaik\n",
        "    grid.fit(X_train_tfidf, y_train)\n",
        "\n",
        "    # Menyimpan hasil terbaik\n",
        "    best_models[kernel] = (grid.best_params_, grid.best_score_)\n",
        "    print(f'Best parameters for {kernel}: {grid.best_params_}')\n",
        "    print(f'Best accuracy for {kernel}: {grid.best_score_:.4f}\\n')\n",
        "\n",
        "# Menampilkan model terbaik untuk setiap kernel\n",
        "print(\"\\nModel terbaik untuk setiap kernel:\")\n",
        "for kernel, (params, accuracy) in best_models.items():\n",
        "    print(f'{kernel}: {params}, Akurasi: {accuracy:.4f}')\n"
      ],
      "metadata": {
        "colab": {
          "base_uri": "https://localhost:8080/"
        },
        "id": "q28hJ4l9whGY",
        "outputId": "14d68d9b-15e2-41fe-e1cc-2f3005176aa1"
      },
      "execution_count": null,
      "outputs": [
        {
          "output_type": "stream",
          "name": "stdout",
          "text": [
            "Melakukan Grid Search untuk kernel: linear\n",
            "Best parameters for linear: {'C': 1}\n",
            "Best accuracy for linear: 0.9153\n",
            "\n",
            "Melakukan Grid Search untuk kernel: poly\n",
            "Best parameters for poly: {'C': 0.1, 'degree': 2, 'gamma': 10}\n",
            "Best accuracy for poly: 0.9361\n",
            "\n",
            "Melakukan Grid Search untuk kernel: rbf\n",
            "Best parameters for rbf: {'C': 10, 'gamma': 1}\n",
            "Best accuracy for rbf: 0.9347\n",
            "\n",
            "\n",
            "Model terbaik untuk setiap kernel:\n",
            "linear: {'C': 1}, Akurasi: 0.9153\n",
            "poly: {'C': 0.1, 'degree': 2, 'gamma': 10}, Akurasi: 0.9361\n",
            "rbf: {'C': 10, 'gamma': 1}, Akurasi: 0.9347\n"
          ]
        }
      ]
    },
    {
      "cell_type": "markdown",
      "source": [
        "## Menerapkan ke Data Testing"
      ],
      "metadata": {
        "id": "o2xVHqTc4G_A"
      }
    },
    {
      "cell_type": "markdown",
      "source": [
        "1. Kernel Linear"
      ],
      "metadata": {
        "id": "tUplgDRCCyBS"
      }
    },
    {
      "cell_type": "code",
      "source": [
        "# Membuat model SVM dengan kernel linear dan C = 100\n",
        "model = SVC(kernel='linear', C=1)\n",
        "\n",
        "# Melatih model dengan data pelatihan\n",
        "model.fit(X_train_tfidf, y_train)\n",
        "\n",
        "# Melakukan prediksi pada set pengujian (X_test)\n",
        "y_pred_test = model.predict(X_test_tfidf)\n",
        "\n",
        "# Menghitung akurasi pada set pengujian\n",
        "test_accuracy = accuracy_score(y_test, y_pred_test)\n",
        "\n",
        "# Menampilkan hasil akurasi\n",
        "print(f'Akurasi pada set pengujian dengan C = 1: {test_accuracy}')\n"
      ],
      "metadata": {
        "colab": {
          "base_uri": "https://localhost:8080/"
        },
        "id": "wSy21UFPssCh",
        "outputId": "70241e9e-a760-4df3-f9a9-92f362e2979e"
      },
      "execution_count": null,
      "outputs": [
        {
          "output_type": "stream",
          "name": "stdout",
          "text": [
            "Akurasi pada set pengujian dengan C = 1: 0.9125\n"
          ]
        }
      ]
    },
    {
      "cell_type": "markdown",
      "source": [
        "2. Kernel RBF"
      ],
      "metadata": {
        "id": "v3otpSviC1N3"
      }
    },
    {
      "cell_type": "code",
      "source": [
        "# Membuat model SVM dengan kernel RBF, C = 1, dan gamma = 1\n",
        "model = SVC(kernel='rbf', C=10, gamma=1)\n",
        "\n",
        "# Melatih model dengan data pelatihan\n",
        "model.fit(X_train_tfidf, y_train)\n",
        "\n",
        "# Melakukan prediksi pada set pengujian (X_test)\n",
        "y_pred_test = model.predict(X_test_tfidf)\n",
        "\n",
        "# Menghitung akurasi pada set pengujian\n",
        "test_accuracy = accuracy_score(y_test, y_pred_test)\n",
        "\n",
        "# Menampilkan hasil akurasi\n",
        "print(f'Akurasi pada set pengujian dengan C = 10 dan gamma = 1: {test_accuracy}')\n"
      ],
      "metadata": {
        "colab": {
          "base_uri": "https://localhost:8080/"
        },
        "id": "59ZaS9gVti29",
        "outputId": "30dd5b8b-970a-4e7d-ca5f-d8fbc3231ede"
      },
      "execution_count": null,
      "outputs": [
        {
          "output_type": "stream",
          "name": "stdout",
          "text": [
            "Akurasi pada set pengujian dengan C = 10 dan gamma = 1: 0.8875\n"
          ]
        }
      ]
    },
    {
      "cell_type": "markdown",
      "source": [
        "3. Kernel Polynomial"
      ],
      "metadata": {
        "id": "LXs0yFZQC2_Q"
      }
    },
    {
      "cell_type": "code",
      "source": [
        "# Membuat model SVM dengan kernel polinomial, C = 0.1, gamma = 10, dan degree = 2\n",
        "model = SVC(kernel='poly', C=0.1, gamma=10, degree=2)\n",
        "\n",
        "# Melatih model dengan data pelatihan\n",
        "model.fit(X_train_tfidf, y_train)\n",
        "\n",
        "# Melakukan prediksi pada set pengujian (X_test)\n",
        "y_pred_test = model.predict(X_test_tfidf)\n",
        "\n",
        "# Menghitung akurasi pada set pengujian\n",
        "test_accuracy = accuracy_score(y_test, y_pred_test)\n",
        "\n",
        "# Menampilkan hasil akurasi\n",
        "print(f'Akurasi pada set pengujian dengan C = 0.1, gamma = 10, dan degree = 2: {test_accuracy}')\n"
      ],
      "metadata": {
        "colab": {
          "base_uri": "https://localhost:8080/"
        },
        "id": "AcOfveXJtlND",
        "outputId": "563514a9-8fbd-461f-ce15-c3d148e35cca"
      },
      "execution_count": null,
      "outputs": [
        {
          "output_type": "stream",
          "name": "stdout",
          "text": [
            "Akurasi pada set pengujian dengan C = 0.1, gamma = 10, dan degree = 2: 0.8875\n"
          ]
        }
      ]
    },
    {
      "cell_type": "markdown",
      "source": [
        "Confusion Matrix"
      ],
      "metadata": {
        "id": "DkAEj00XCsaH"
      }
    },
    {
      "cell_type": "code",
      "source": [
        "# Parameter terbaik yang sudah diketahui\n",
        "best_params = {\n",
        "    'linear': {'C': 1},\n",
        "    'poly': {'C': 0.1, 'gamma': 10, 'degree': 2},\n",
        "    'rbf': {'C': 10, 'gamma': 1}\n",
        "}\n",
        "\n",
        "# Membuat confusion matrix dan menghitung metrik evaluasi untuk setiap kernel\n",
        "for kernel, params in best_params.items():\n",
        "    print(f\"Membuat confusion matrix dan menghitung metrik evaluasi untuk kernel: {kernel}\")\n",
        "\n",
        "    # Menginisialisasi model terbaik berdasarkan parameter yang telah diperoleh\n",
        "    if kernel == 'linear':\n",
        "        model = SVC(kernel=kernel, C=params['C'])\n",
        "    elif kernel == 'poly':\n",
        "        model = SVC(kernel=kernel, C=params['C'], gamma=params['gamma'], degree=params['degree'])\n",
        "    else:  # kernel == 'rbf'\n",
        "        model = SVC(kernel=kernel, C=params['C'], gamma=params['gamma'])\n",
        "\n",
        "    # Melatih model dengan data training\n",
        "    model.fit(X_train_tfidf, y_train)\n",
        "\n",
        "    # Melakukan prediksi terhadap data uji\n",
        "    y_pred = model.predict(X_test_tfidf)\n",
        "\n",
        "    # Menghitung confusion matrix\n",
        "    cm = confusion_matrix(y_test, y_pred)\n",
        "\n",
        "    # Menghitung precision, recall, dan f1-score\n",
        "    precision = precision_score(y_test, y_pred, average='weighted')\n",
        "    recall = recall_score(y_test, y_pred, average='weighted')\n",
        "    f1 = f1_score(y_test, y_pred, average='weighted')\n",
        "\n",
        "    # Menampilkan confusion matrix\n",
        "    plt.figure(figsize=(6, 4))\n",
        "    sns.heatmap(cm, annot=True, fmt='d', cmap='Blues', xticklabels=model.classes_, yticklabels=model.classes_)\n",
        "    plt.xlabel('Predicted')\n",
        "    plt.ylabel('Actual')\n",
        "    plt.title(f'Confusion Matrix for {kernel} Kernel')\n",
        "    plt.show()\n",
        "\n",
        "    # Menampilkan metrik evaluasi\n",
        "    print(f\"Precision for {kernel}: {precision}\")\n",
        "    print(f\"Recall for {kernel}: {recall}\")\n",
        "    print(f\"F1-Score for {kernel}: {f1}\\n\")\n"
      ],
      "metadata": {
        "colab": {
          "base_uri": "https://localhost:8080/",
          "height": 1000
        },
        "id": "GkMpES4Q0dfA",
        "outputId": "6a745239-5d5a-4e36-ed48-8ba6dd590bfb"
      },
      "execution_count": null,
      "outputs": [
        {
          "output_type": "stream",
          "name": "stdout",
          "text": [
            "Membuat confusion matrix dan menghitung metrik evaluasi untuk kernel: linear\n"
          ]
        },
        {
          "output_type": "display_data",
          "data": {
            "text/plain": [
              "<Figure size 600x400 with 2 Axes>"
            ],
            "image/png": "[encoded data removed]"
          },
          "metadata": {}
        },
        {
          "output_type": "stream",
          "name": "stdout",
          "text": [
            "Precision for linear: 0.9192866161616161\n",
            "Recall for linear: 0.9125\n",
            "F1-Score for linear: 0.9122946330777655\n",
            "\n",
            "Membuat confusion matrix dan menghitung metrik evaluasi untuk kernel: poly\n"
          ]
        },
        {
          "output_type": "display_data",
          "data": {
            "text/plain": [
              "<Figure size 600x400 with 2 Axes>"
            ],
            "image/png": "[encoded data removed]"
          },
          "metadata": {}
        },
        {
          "output_type": "stream",
          "name": "stdout",
          "text": [
            "Precision for poly: 0.8939709595959595\n",
            "Recall for poly: 0.8875\n",
            "F1-Score for poly: 0.8872359568142703\n",
            "\n",
            "Membuat confusion matrix dan menghitung metrik evaluasi untuk kernel: rbf\n"
          ]
        },
        {
          "output_type": "display_data",
          "data": {
            "text/plain": [
              "<Figure size 600x400 with 2 Axes>"
            ],
            "image/png": "[encoded data removed]"
          },
          "metadata": {}
        },
        {
          "output_type": "stream",
          "name": "stdout",
          "text": [
            "Precision for rbf: 0.8939709595959595\n",
            "Recall for rbf: 0.8875\n",
            "F1-Score for rbf: 0.8872359568142703\n",
            "\n"
          ]
        }
      ]
    },
    {
      "cell_type": "markdown",
      "source": [
        "Data yang salah klasifikasi pada Kernel Linear"
      ],
      "metadata": {
        "id": "bBbci_jNCkVb"
      }
    },
    {
      "cell_type": "code",
      "source": [
        "# Model Linear\n",
        "model_linear = SVC(kernel='linear', C=best_params['linear']['C'])\n",
        "model_linear.fit(X_train_tfidf, y_train)\n",
        "y_pred_linear = model_linear.predict(X_test_tfidf)\n",
        "\n",
        "# Menemukan data yang salah klasifikasi untuk kernel Linear\n",
        "misclassified_indices_linear = [i for i in range(len(y_test)) if y_test.iloc[i] != y_pred_linear[i]]\n",
        "\n",
        "print(f\"\\nData yang salah klasifikasi untuk kernel Linear:\")\n",
        "for idx in misclassified_indices_linear:\n",
        "    print(f\"Index: {idx}, Actual: {y_test.iloc[idx]}, Predicted: {y_pred_linear[idx]}\")\n"
      ],
      "metadata": {
        "colab": {
          "base_uri": "https://localhost:8080/"
        },
        "id": "M4uZCg4d1vwS",
        "outputId": "26dcb900-81e4-4c2c-cc09-afa82e103f02"
      },
      "execution_count": null,
      "outputs": [
        {
          "output_type": "stream",
          "name": "stdout",
          "text": [
            "\n",
            "Data yang salah klasifikasi untuk kernel Linear:\n",
            "Index: 3, Actual: J_AI, Predicted: J_MHS\n",
            "Index: 16, Actual: J_MHS, Predicted: J_AI\n",
            "Index: 19, Actual: J_AI, Predicted: J_MHS\n",
            "Index: 45, Actual: J_AI, Predicted: J_MHS\n",
            "Index: 49, Actual: J_AI, Predicted: J_MHS\n",
            "Index: 60, Actual: J_AI, Predicted: J_MHS\n",
            "Index: 77, Actual: J_AI, Predicted: J_MHS\n"
          ]
        }
      ]
    },
    {
      "cell_type": "markdown",
      "source": [
        "Data yang salah klasifikasi pada Kernel RBF"
      ],
      "metadata": {
        "id": "7P5RMx4GCnxk"
      }
    },
    {
      "cell_type": "code",
      "source": [
        "# Model RBF\n",
        "model_rbf = SVC(kernel='rbf', C=best_params['rbf']['C'], gamma=best_params['rbf']['gamma'])\n",
        "model_rbf.fit(X_train_tfidf, y_train)\n",
        "y_pred_rbf = model_rbf.predict(X_test_tfidf)\n",
        "\n",
        "# Menemukan data yang salah klasifikasi untuk kernel RBF\n",
        "misclassified_indices_rbf = [i for i in range(len(y_test)) if y_test.iloc[i] != y_pred_rbf[i]]\n",
        "\n",
        "print(f\"\\nData yang salah klasifikasi untuk kernel RBF:\")\n",
        "for idx in misclassified_indices_rbf:\n",
        "    print(f\"Index: {idx}, Actual: {y_test.iloc[idx]}, Predicted: {y_pred_rbf[idx]}\")\n"
      ],
      "metadata": {
        "colab": {
          "base_uri": "https://localhost:8080/"
        },
        "id": "pj-PwvPu1w-v",
        "outputId": "685783b2-d173-4663-8a48-54c571534bd2"
      },
      "execution_count": null,
      "outputs": [
        {
          "output_type": "stream",
          "name": "stdout",
          "text": [
            "\n",
            "Data yang salah klasifikasi untuk kernel RBF:\n",
            "Index: 3, Actual: J_AI, Predicted: J_MHS\n",
            "Index: 10, Actual: J_MHS, Predicted: J_AI\n",
            "Index: 16, Actual: J_MHS, Predicted: J_AI\n",
            "Index: 19, Actual: J_AI, Predicted: J_MHS\n",
            "Index: 45, Actual: J_AI, Predicted: J_MHS\n",
            "Index: 49, Actual: J_AI, Predicted: J_MHS\n",
            "Index: 60, Actual: J_AI, Predicted: J_MHS\n",
            "Index: 61, Actual: J_AI, Predicted: J_MHS\n",
            "Index: 77, Actual: J_AI, Predicted: J_MHS\n"
          ]
        }
      ]
    },
    {
      "cell_type": "markdown",
      "source": [
        "Data yang salah klasifikasi pada Kernel Polynomial"
      ],
      "metadata": {
        "id": "YMzKKJggCpEg"
      }
    },
    {
      "cell_type": "code",
      "source": [
        "# Model Polynomial\n",
        "model_poly = SVC(kernel='poly', C=best_params['poly']['C'], gamma=best_params['poly']['gamma'], degree=best_params['poly']['degree'])\n",
        "model_poly.fit(X_train_tfidf, y_train)\n",
        "y_pred_poly = model_poly.predict(X_test_tfidf)\n",
        "\n",
        "# Menemukan data yang salah klasifikasi untuk kernel Polynomial\n",
        "misclassified_indices_poly = [i for i in range(len(y_test)) if y_test.iloc[i] != y_pred_poly[i]]\n",
        "\n",
        "print(f\"\\nData yang salah klasifikasi untuk kernel Polynomial:\")\n",
        "for idx in misclassified_indices_poly:\n",
        "    print(f\"Index: {idx}, Actual: {y_test.iloc[idx]}, Predicted: {y_pred_poly[idx]}\")\n"
      ],
      "metadata": {
        "colab": {
          "base_uri": "https://localhost:8080/"
        },
        "id": "krBna3fQ1zV8",
        "outputId": "b4d620bd-12bd-4cb5-c495-3a61fd67f3ac"
      },
      "execution_count": null,
      "outputs": [
        {
          "output_type": "stream",
          "name": "stdout",
          "text": [
            "\n",
            "Data yang salah klasifikasi untuk kernel Polynomial:\n",
            "Index: 3, Actual: J_AI, Predicted: J_MHS\n",
            "Index: 10, Actual: J_MHS, Predicted: J_AI\n",
            "Index: 16, Actual: J_MHS, Predicted: J_AI\n",
            "Index: 19, Actual: J_AI, Predicted: J_MHS\n",
            "Index: 45, Actual: J_AI, Predicted: J_MHS\n",
            "Index: 49, Actual: J_AI, Predicted: J_MHS\n",
            "Index: 60, Actual: J_AI, Predicted: J_MHS\n",
            "Index: 61, Actual: J_AI, Predicted: J_MHS\n",
            "Index: 77, Actual: J_AI, Predicted: J_MHS\n"
          ]
        }
      ]
    }
  ]
}